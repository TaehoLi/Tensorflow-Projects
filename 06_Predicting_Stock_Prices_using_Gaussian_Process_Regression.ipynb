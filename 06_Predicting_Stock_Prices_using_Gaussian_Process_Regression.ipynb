{
 "cells": [
  {
   "cell_type": "markdown",
   "metadata": {},
   "source": [
    "## Data preprocessing"
   ]
  },
  {
   "cell_type": "code",
   "execution_count": 1,
   "metadata": {},
   "outputs": [],
   "source": [
    "import pandas as pd\n",
    "import numpy as np\n",
    "\n",
    "\n",
    "class PreProcessing:\n",
    "    data = None\n",
    "    quarter_names = None\n",
    "    num_years = None\n",
    "    num_days = None\n",
    "\n",
    "    def __init__(self, name):\n",
    "        name= str(name)\n",
    "        self.get_data(name)\n",
    "        self.data['Normalized_Close'] = self.normalized_data_col(self.data)\n",
    "        self.data['Quarter'] = self.get_quarter_col(self.data)\n",
    "        self.num_days = 252\n",
    "        self.prices_by_year = self.get_prices_by_year()\n",
    "        self.quarter_length = int(self.num_days / 4)\n",
    "\n",
    "    def get_prices_by_year(self):\n",
    "        df = self.modify_first_year_data()\n",
    "        for i in range(1, len(self.num_years)):\n",
    "            df = pd.concat([df, pd.DataFrame(self.get_year_data(year=self.num_years[i], normalized=True))], axis=1)\n",
    "\n",
    "        df = df[:self.num_days]\n",
    "\n",
    "        quarter_col = []\n",
    "        num_days_in_quarter = self.num_days // 4\n",
    "        for j in range(0, len(self.quarter_names)):\n",
    "            quarter_col.extend([self.quarter_names[j]]*num_days_in_quarter)\n",
    "        quarter_col = pd.DataFrame(quarter_col)\n",
    "\n",
    "        df = pd.concat([df, quarter_col], axis=1)\n",
    "        df.columns = self.num_years + ['Quarter']\n",
    "        df.index.name = 'Day'\n",
    "\n",
    "        df = self.fill_nans_with_mean(df)\n",
    "\n",
    "        return df\n",
    "\n",
    "    def get_year_data(self, year, normalized=True):\n",
    "        year = int(year)\n",
    "        if year not in self.num_years:\n",
    "            raise ValueError('\\n' +\n",
    "                             'Input year: {} not in available years: {}'.format(year, self.num_years))\n",
    "\n",
    "        prices = (self.data.loc[self.data['Date'].dt.year == year])\n",
    "        if normalized:\n",
    "            return np.asarray(prices.loc[:, 'Normalized_Close'])\n",
    "        else:\n",
    "            return np.asarray(prices.loc[:, 'Adj Close'])\n",
    "\n",
    "    def get_adj_close_prices(self, start_year, end_year):\n",
    "        start_year,end_year  = int(start_year), int(end_year)\n",
    "        if start_year < self.num_years[0] or end_year > self.num_years[-1]:\n",
    "            raise ValueError('\\n' +\n",
    "                             'Incorrect data! \\n' +\n",
    "                             'Max range available: {}-{}\\n'.format(self.num_years[0], self.num_years[-1]) +\n",
    "                             'Was: {}-{}'.format(start_year, end_year))\n",
    "\n",
    "        df = (self.data.loc[(self.data['Date'].dt.year >= start_year) & (self.data['Date'].dt.year <= end_year)])\n",
    "        df = df.loc[:, ['Date', 'Adj Close']]\n",
    "\n",
    "        return df\n",
    "\n",
    "    def get_data(self, file_name):\n",
    "        file_name = str(file_name)\n",
    "        self.data = pd.read_csv(\"./datasetslib/data/\"+ file_name + '.csv')\n",
    "        self.data = self.data.iloc[:, [0, 5]]\n",
    "        self.data = self.data.dropna()\n",
    "        self.data.Date = pd.to_datetime(self.data.Date)\n",
    "        self.quarter_names = ['Q' + str(i) for i in range(1, 5)]\n",
    "\n",
    "    def normalized_data_col(self, df):\n",
    "        price_normalized = pd.DataFrame()\n",
    "\n",
    "        date_list = list(df.Date)\n",
    "        self.num_years = sorted(list(set([date_list[i].year for i in range(0, len(date_list))])))\n",
    "\n",
    "        for i in range(0, len(self.num_years)):\n",
    "            prices_data = self.get_year_data(year=self.num_years[i], normalized=False)\n",
    "            prices_data = [(prices_data[i] - np.mean(prices_data)) / np.std(prices_data) for i in range(0, len(prices_data))]\n",
    "            prices_data = [(prices_data[i] - prices_data[0]) for i in range(0, len(prices_data))]\n",
    "            price_normalized = price_normalized.append(prices_data, ignore_index=True)\n",
    "\n",
    "        return price_normalized\n",
    "\n",
    "    def get_quarter_col(self, df):\n",
    "        quarters = pd.DataFrame()\n",
    "\n",
    "        for i in range(0, len(self.num_years)):\n",
    "            dates = list((df.loc[df['Date'].dt.year == self.num_years[i]]).iloc[:, 0])\n",
    "            dates = pd.DataFrame([self.quarter_names[(int(dates[i].month) - 1) // 3] for i in range(0, len(dates))])\n",
    "            quarters = quarters.append(dates, ignore_index=True)\n",
    "\n",
    "        return quarters\n",
    "\n",
    "\n",
    "    def modify_first_year_data(self):\n",
    "        price_data = pd.DataFrame(self.get_year_data(self.num_years[0]))\n",
    "        df = pd.DataFrame([0 for _ in range(self.num_days - len(price_data.index))])\n",
    "        df = pd.concat([df, price_data], ignore_index=True)\n",
    "\n",
    "        return df\n",
    "\n",
    "    def fill_nans_with_mean(self, df):\n",
    "        years = self.num_years[:-1]\n",
    "        df_wo_last_year = df.loc[:,years]\n",
    "        df_wo_last_year = df_wo_last_year.fillna(df_wo_last_year.mean())\n",
    "        df_wo_last_year[self.num_years[-1]] = df[self.num_years[-1]]\n",
    "        df= df_wo_last_year\n",
    "\n",
    "        return df\n"
   ]
  },
  {
   "cell_type": "markdown",
   "metadata": {},
   "source": [
    "## Gaussian Process model"
   ]
  },
  {
   "cell_type": "code",
   "execution_count": 2,
   "metadata": {},
   "outputs": [],
   "source": [
    "import numpy as np\n",
    "import pandas as pd\n",
    "import gpflow\n",
    "\n",
    "\n",
    "class GP:\n",
    "    preprocessed_data = None\n",
    "    kernel = None\n",
    "    gp_model = None\n",
    "\n",
    "    def __init__(self, company):\n",
    "        self.preprocessed_data = PreProcessing(str(company))\n",
    "\n",
    "    def make_gp_predictions(self, start_year, end_year, pred_year, pred_quarters = []):\n",
    "        start_year, end_year, pred_year= int(start_year),int(end_year), int(pred_year)\n",
    "        years_quarters = list(range(start_year, end_year + 1)) + ['Quarter']\n",
    "        years_in_train = years_quarters[:-2]\n",
    "        price_df = self.preprocessed_data.prices_by_year[self.preprocessed_data.prices_by_year.columns.intersection(years_quarters)]\n",
    "\n",
    "        num_days_in_train = list(price_df.index.values)\n",
    "\n",
    "        #Generating X and Y for Training\n",
    "        first_year_prices = price_df[start_year]\n",
    "        if start_year == self.preprocessed_data.num_years[0]:\n",
    "            first_year_prices = (first_year_prices[first_year_prices.iloc[:] != 0])\n",
    "            first_year_prices = (pd.Series([0.0], index=[first_year_prices.index[0]-1])).append(first_year_prices)\n",
    "\n",
    "        first_year_days = list(first_year_prices.index.values)\n",
    "        first_year_X = np.array([[start_year, day] for day in first_year_days])\n",
    "\n",
    "        X = first_year_X\n",
    "        Target = np.array(first_year_prices)\n",
    "        for year in years_in_train[1:]:\n",
    "            current_year_prices = list(price_df.loc[:, year])\n",
    "            current_year_X = np.array([[year, day] for day in num_days_in_train])\n",
    "            X = np.append(X, current_year_X, axis=0)\n",
    "            Target = np.append(Target, current_year_prices)\n",
    "\n",
    "        final_year_prices = price_df[end_year]\n",
    "        final_year_prices = final_year_prices[final_year_prices.iloc[:].notnull()]\n",
    "\n",
    "        final_year_days = list(final_year_prices.index.values)\n",
    "        if pred_quarters is not None:\n",
    "            length = 63 * (pred_quarters[0] - 1)\n",
    "            final_year_days = final_year_days[:length]\n",
    "            final_year_prices = final_year_prices[:length]\n",
    "        final_year_X = np.array([[end_year, day] for day in final_year_days])\n",
    "\n",
    "        X = np.append(X, final_year_X, axis=0)\n",
    "        Target = np.append(Target, final_year_prices)\n",
    "\n",
    "        if pred_quarters is not None:\n",
    "            days_for_prediction = [day for day in\n",
    "                                   range(63 * (pred_quarters[0]-1), 63 * pred_quarters[int(len(pred_quarters) != 1)])]\n",
    "        else:\n",
    "            days_for_prediction = list(range(0, self.preprocessed_data.num_days))\n",
    "        x_mesh = np.linspace(days_for_prediction[0], days_for_prediction[-1]\n",
    "                             , 2000)\n",
    "        x_pred = ([[pred_year, x_mesh[i]] for i in range(len(x_mesh))])\n",
    "        X = X.astype(np.float64)\n",
    "        Target = np.expand_dims(Target, axis=1)\n",
    "        kernel = gpflow.kernels.RBF(2, lengthscales=1, variance=63) + gpflow.kernels.White(2, variance=1e-10)\n",
    "        self.gp_model = gpflow.models.GPR(X, Target, kern=kernel)\n",
    "        gpflow.train.ScipyOptimizer().minimize(self.gp_model)\n",
    "        y_mean, y_var = self.gp_model.predict_y(x_pred)\n",
    "\n",
    "        return x_mesh, y_mean, y_var"
   ]
  },
  {
   "cell_type": "markdown",
   "metadata": {},
   "source": [
    "## Plot"
   ]
  },
  {
   "cell_type": "code",
   "execution_count": 3,
   "metadata": {},
   "outputs": [],
   "source": [
    "import matplotlib.pyplot as plt\n",
    "import matplotlib.dates as mdates\n",
    "import numpy as np\n",
    "\n",
    "\n",
    "class PlotData:\n",
    "    company = None\n",
    "    preprocessed_data = None\n",
    "    gp_model = None\n",
    "\n",
    "    def __init__(self, company):\n",
    "        self.company = str(company)\n",
    "        self.preprocessed_data = PreProcessing(str(company))\n",
    "        self.gp_model = GP(str(company))\n",
    "\n",
    "    def plot_normalized_prices(self, first_year, last_year):\n",
    "        first_year, last_year = int(first_year), int(last_year)\n",
    "        self.check_data(start_year=first_year, end_year=last_year)\n",
    "\n",
    "        fig = plt.figure(num=self.company + ' normalized prices')\n",
    "        ax = plt.gca()\n",
    "        fig.set_size_inches(12, 6)\n",
    "        lower_y, upper_y = 0, 0\n",
    "        for year in range(first_year, last_year + 1):\n",
    "            target = self.preprocessed_data.prices_by_year[year]\n",
    "            lower_y = min(lower_y, min(target))\n",
    "            upper_y = max(upper_y, max(target))\n",
    "            x = np.linspace(0, len(target), len(target))\n",
    "            plt.plot(x, target, alpha=.8, label=year)\n",
    "            plt.legend(bbox_to_anchor=(1.01, 1), loc=2, borderaxespad=0.)\n",
    "\n",
    "        y_max = max(abs(lower_y) - 1, abs(upper_y) + 1)\n",
    "        x_min, x_max = -10, self.preprocessed_data.num_days + 10\n",
    "        ax.set_ylim(bottom=-y_max, top=y_max)\n",
    "        ax.set_xlim(left=x_min, right=x_max)\n",
    "\n",
    "        for i in range(0, 5):\n",
    "            plt.vlines(x=(self.preprocessed_data.num_days / 4) * i, ymin=-y_max, ymax=y_max, color='black', linestyles='--', alpha=.5,\n",
    "                       zorder=-1)\n",
    "            if i < 4:\n",
    "                ax.text((self.preprocessed_data.num_days / 4) * i + self.preprocessed_data.num_days / 8 - 5, y_max - 0.5, self.preprocessed_data.quarter_names[i],\n",
    "                        fontsize=12)\n",
    "        plt.hlines(y=0, xmin=x_min, xmax=x_max, color='black', linestyles='--', alpha=.6, zorder=-1)\n",
    "\n",
    "        plt.grid(True, alpha=.25)\n",
    "        plt.title(self.company)\n",
    "        plt.xlabel('Days')\n",
    "        plt.ylabel('NormalizedPrices')\n",
    "\n",
    "        plt.tight_layout()\n",
    "\n",
    "        image_name = '{}_{}_{}_prices_normalized.png'.format(self.company, first_year, last_year)\n",
    "        fig.savefig(image_name, dpi=fig.dpi)\n",
    "        plt.clf()\n",
    "\n",
    "    def plot_gp_predictions(self, train_start, train_end, pred_year, pred_quarters = None):\n",
    "        train_start = int(train_start)\n",
    "        train_end = int(train_end)\n",
    "        pred_year = int(pred_year)\n",
    "        self.check_data(start_year=train_start, end_year=pred_year)\n",
    "\n",
    "        price_data = self.preprocessed_data.prices_by_year[pred_year]\n",
    "        price_data = price_data[price_data.iloc[:].notnull()]\n",
    "\n",
    "        fig = plt.figure(num=self.company + ' predicted prices')\n",
    "        ax = plt.gca()\n",
    "        fig.set_size_inches(12, 6)\n",
    "\n",
    "        x_obs = list(range(price_data.index[0], price_data.index[-1] + 1))\n",
    "        x_mesh, y_mean, y_var = self.gp_model.make_gp_predictions(start_year=train_start, end_year=train_end,\n",
    "                                                                  pred_year=pred_year,\n",
    "                                                                  pred_quarters=pred_quarters)\n",
    "        y_lower = np.squeeze(y_mean - 1.96*np.sqrt(y_var))\n",
    "        y_upper = np.squeeze(y_mean + 1.96*np.sqrt(y_var))\n",
    "        y_max = max(abs(min(y_lower) - 1), abs(max(y_upper) + 1))\n",
    "        ax.set_ylim(bottom=-y_max, top=y_max)\n",
    "\n",
    "        x_min, x_max = -10, self.preprocessed_data.num_days + 10\n",
    "        ax.set_xlim(left=x_min, right=x_max)\n",
    "\n",
    "        plt.plot(x_obs, price_data, color='blue', alpha=.95, label=u'Actuals ' + str(pred_year), zorder=10)\n",
    "        plt.plot(x_mesh, y_mean, color='red', linestyle='--', label=u'Predicted')\n",
    "        plt.fill_between(x_mesh, y_lower, y_upper,\n",
    "                         alpha=.25, label='95% confidence interval', color='red')\n",
    "\n",
    "        handles, labels = plt.gca().get_legend_handles_labels()\n",
    "        new_labels, new_handles = [], []\n",
    "        for handle, label in zip(handles, labels):\n",
    "            if label not in new_labels:\n",
    "                new_labels.append(label)\n",
    "                new_handles.append(handle)\n",
    "        plt.legend(new_handles, new_labels, bbox_to_anchor=(0.01, 0.02), loc='lower left', borderaxespad=0.)\n",
    "\n",
    "        for i in range(0, 5):\n",
    "            plt.vlines(x=self.preprocessed_data.quarter_length * i, ymin=-y_max, ymax=y_max, color='black', linestyles='--', alpha=.5,\n",
    "                       zorder=-1)\n",
    "            if i < 4:\n",
    "                ax.text(self.preprocessed_data.quarter_length * i + self.preprocessed_data.quarter_length / 2 - 5, y_max - 0.5, self.preprocessed_data.quarter_names[i],\n",
    "                        fontsize=12)\n",
    "        plt.hlines(y=0, xmin=x_min, xmax=x_max, color='black', linestyles='--', alpha=.6, zorder=-1)\n",
    "\n",
    "        plt.grid(True, alpha=.25)\n",
    "        plt.title(self.company)\n",
    "        plt.xlabel('Days\\n')\n",
    "        plt.ylabel('NormalizedPrices')\n",
    "\n",
    "        plt.tight_layout()\n",
    "\n",
    "        image_name = '{}_{}_predicted.png'.format(self.company, pred_year)\n",
    "        fig.savefig(image_name, dpi=fig.dpi)\n",
    "        plt.clf()\n",
    "\n",
    "    def plot_complete_history(self, intermediate = False):\n",
    "        self.plot_prices_data(start_year=self.preprocessed_data.num_years[0], end_year=self.preprocessed_data.num_years[-1], intermediate=intermediate)\n",
    "\n",
    "    def plot_prices_data(self, start_year, end_year, intermediate = True):\n",
    "        start_year,end_year = int(start_year), int(end_year)\n",
    "        self.check_data(start_year=start_year, end_year=end_year)\n",
    "\n",
    "        data = self.preprocessed_data.get_adj_close_prices(start_year=start_year, end_year=end_year)\n",
    "\n",
    "        fig = plt.figure(num=self.company + ' prices')\n",
    "        fig.set_size_inches(12, 6)\n",
    "        plt.plot(data.iloc[:, 0], data.iloc[:, 1], color='green', alpha=.95,\n",
    "                 label=u'PriceData ' + str(start_year) + '-' + str(end_year), zorder=10)\n",
    "        ax = plt.gca()\n",
    "\n",
    "        x_ticks = [data[data['Date'].dt.year == year].iloc[0, 0] for year in range(start_year,end_year + 1)]\n",
    "        x_ticks.append(data[data['Date'].dt.year == end_year].iloc[-1, 0]) # Appending the last date\n",
    "\n",
    "        ax.xaxis.set_major_formatter(mdates.DateFormatter('%d-%m-%Y'))\n",
    "        if not intermediate:\n",
    "            x_ticks = [x_ticks[0], x_ticks[-2], x_ticks[-1]]\n",
    "            ax.set_xticks([x_ticks[0], x_ticks[-1]])\n",
    "        else:\n",
    "            ax.set_xticks(x_ticks)\n",
    "        plt.xticks(rotation=20)\n",
    "        y_min, y_max = ax.get_ylim()\n",
    "        x_min, x_max = ax.get_xlim()\n",
    "        ax.set_ylim(bottom=y_min, top=y_max)\n",
    "        ax.set_xlim(left=x_min, right=x_max)\n",
    "\n",
    "        for i in range(0, len(x_ticks)):\n",
    "            plt.vlines(x=x_ticks[i], ymin=y_min, ymax=y_max, color='black', linestyles='--', alpha=.5,\n",
    "                       zorder=-1)\n",
    "\n",
    "        plt.grid(True, alpha=0.25)\n",
    "        plt.legend()\n",
    "        plt.title(self.company)\n",
    "        plt.ylabel('Price')\n",
    "\n",
    "        plt.tight_layout()\n",
    "\n",
    "        fname = '{}_{}_{}_adj_closing_prices.png'.format(self.company, start_year, end_year)\n",
    "        fig.savefig(fname, dpi=fig.dpi)\n",
    "        plt.clf()\n",
    "\n",
    "    def check_data(self, start_year, end_year):\n",
    "        if int(start_year) < self.preprocessed_data.num_years[0] or int(end_year) > self.preprocessed_data.num_years[-1]:\n",
    "            raise ValueError('\\n' +\n",
    "                             'Incorrect data! \\n' +\n",
    "                             'Max range available: {}-{}\\n'.format(self.preprocessed_data.num_years[0], self.preprocessed_data.num_years[-1]) +\n",
    "                             'Was: {}-{}'.format(int(start_year), int(end_year)))\n"
   ]
  },
  {
   "cell_type": "markdown",
   "metadata": {},
   "source": [
    "## main"
   ]
  },
  {
   "cell_type": "code",
   "execution_count": 4,
   "metadata": {},
   "outputs": [
    {
     "name": "stdout",
     "output_type": "stream",
     "text": [
      "Company Name  GOOG\n"
     ]
    },
    {
     "name": "stderr",
     "output_type": "stream",
     "text": [
      "/home/taeho/anaconda3/envs/tensorflow/lib/python3.7/site-packages/pandas/plotting/_converter.py:129: FutureWarning: Using an implicitly registered datetime converter for a matplotlib plotting method. The converter was registered by pandas on import. Future versions of pandas will require you to explicitly register matplotlib converters.\n",
      "\n",
      "To register the converters:\n",
      "\t>>> from pandas.plotting import register_matplotlib_converters\n",
      "\t>>> register_matplotlib_converters()\n",
      "  warnings.warn(msg, FutureWarning)\n"
     ]
    },
    {
     "name": "stdout",
     "output_type": "stream",
     "text": [
      "WARNING:tensorflow:From /home/taeho/anaconda3/envs/tensorflow/lib/python3.7/site-packages/tensorflow/python/framework/op_def_library.py:263: colocate_with (from tensorflow.python.framework.ops) is deprecated and will be removed in a future version.\n",
      "Instructions for updating:\n",
      "Colocations handled automatically by placer.\n"
     ]
    },
    {
     "name": "stderr",
     "output_type": "stream",
     "text": [
      "WARNING:tensorflow:From /home/taeho/anaconda3/envs/tensorflow/lib/python3.7/site-packages/tensorflow/python/framework/op_def_library.py:263: colocate_with (from tensorflow.python.framework.ops) is deprecated and will be removed in a future version.\n",
      "Instructions for updating:\n",
      "Colocations handled automatically by placer.\n",
      "WARNING:gpflow.logdensities:Shape of x must be 2D at computation.\n"
     ]
    },
    {
     "name": "stdout",
     "output_type": "stream",
     "text": [
      "WARNING:tensorflow:From /home/taeho/anaconda3/envs/tensorflow/lib/python3.7/site-packages/tensorflow/python/ops/math_ops.py:3066: to_int32 (from tensorflow.python.ops.math_ops) is deprecated and will be removed in a future version.\n",
      "Instructions for updating:\n",
      "Use tf.cast instead.\n"
     ]
    },
    {
     "name": "stderr",
     "output_type": "stream",
     "text": [
      "WARNING:tensorflow:From /home/taeho/anaconda3/envs/tensorflow/lib/python3.7/site-packages/tensorflow/python/ops/math_ops.py:3066: to_int32 (from tensorflow.python.ops.math_ops) is deprecated and will be removed in a future version.\n",
      "Instructions for updating:\n",
      "Use tf.cast instead.\n"
     ]
    },
    {
     "name": "stdout",
     "output_type": "stream",
     "text": [
      "INFO:tensorflow:Optimization terminated with:\n",
      "  Message: b'CONVERGENCE: REL_REDUCTION_OF_F_<=_FACTR*EPSMCH'\n",
      "  Objective function value: 3992.331132\n",
      "  Number of iterations: 49\n",
      "  Number of functions evaluations: 81\n"
     ]
    },
    {
     "name": "stderr",
     "output_type": "stream",
     "text": [
      "INFO:tensorflow:Optimization terminated with:\n",
      "  Message: b'CONVERGENCE: REL_REDUCTION_OF_F_<=_FACTR*EPSMCH'\n",
      "  Objective function value: 3992.331132\n",
      "  Number of iterations: 49\n",
      "  Number of functions evaluations: 81\n",
      "WARNING:gpflow.logdensities:Shape of x must be 2D at computation.\n"
     ]
    },
    {
     "name": "stdout",
     "output_type": "stream",
     "text": [
      "INFO:tensorflow:Optimization terminated with:\n",
      "  Message: b'CONVERGENCE: REL_REDUCTION_OF_F_<=_FACTR*EPSMCH'\n",
      "  Objective function value: 4623.711955\n",
      "  Number of iterations: 42\n",
      "  Number of functions evaluations: 66\n"
     ]
    },
    {
     "name": "stderr",
     "output_type": "stream",
     "text": [
      "INFO:tensorflow:Optimization terminated with:\n",
      "  Message: b'CONVERGENCE: REL_REDUCTION_OF_F_<=_FACTR*EPSMCH'\n",
      "  Objective function value: 4623.711955\n",
      "  Number of iterations: 42\n",
      "  Number of functions evaluations: 66\n"
     ]
    },
    {
     "name": "stdout",
     "output_type": "stream",
     "text": [
      "GOOG summary done!\n",
      "Company Name  NFLX\n"
     ]
    },
    {
     "name": "stderr",
     "output_type": "stream",
     "text": [
      "WARNING:gpflow.logdensities:Shape of x must be 2D at computation.\n"
     ]
    },
    {
     "name": "stdout",
     "output_type": "stream",
     "text": [
      "INFO:tensorflow:Optimization terminated with:\n",
      "  Message: b'CONVERGENCE: REL_REDUCTION_OF_F_<=_FACTR*EPSMCH'\n",
      "  Objective function value: 2967.681179\n",
      "  Number of iterations: 60\n",
      "  Number of functions evaluations: 101\n"
     ]
    },
    {
     "name": "stderr",
     "output_type": "stream",
     "text": [
      "INFO:tensorflow:Optimization terminated with:\n",
      "  Message: b'CONVERGENCE: REL_REDUCTION_OF_F_<=_FACTR*EPSMCH'\n",
      "  Objective function value: 2967.681179\n",
      "  Number of iterations: 60\n",
      "  Number of functions evaluations: 101\n",
      "WARNING:gpflow.logdensities:Shape of x must be 2D at computation.\n"
     ]
    },
    {
     "name": "stdout",
     "output_type": "stream",
     "text": [
      "INFO:tensorflow:Optimization terminated with:\n",
      "  Message: b'CONVERGENCE: REL_REDUCTION_OF_F_<=_FACTR*EPSMCH'\n",
      "  Objective function value: 3900.064191\n",
      "  Number of iterations: 49\n",
      "  Number of functions evaluations: 69\n"
     ]
    },
    {
     "name": "stderr",
     "output_type": "stream",
     "text": [
      "INFO:tensorflow:Optimization terminated with:\n",
      "  Message: b'CONVERGENCE: REL_REDUCTION_OF_F_<=_FACTR*EPSMCH'\n",
      "  Objective function value: 3900.064191\n",
      "  Number of iterations: 49\n",
      "  Number of functions evaluations: 69\n"
     ]
    },
    {
     "name": "stdout",
     "output_type": "stream",
     "text": [
      "NFLX summary done!\n",
      "Company Name  GE\n"
     ]
    },
    {
     "name": "stderr",
     "output_type": "stream",
     "text": [
      "WARNING:gpflow.logdensities:Shape of x must be 2D at computation.\n"
     ]
    },
    {
     "name": "stdout",
     "output_type": "stream",
     "text": [
      "INFO:tensorflow:Optimization terminated with:\n",
      "  Message: b'CONVERGENCE: REL_REDUCTION_OF_F_<=_FACTR*EPSMCH'\n",
      "  Objective function value: 3314.993826\n",
      "  Number of iterations: 50\n",
      "  Number of functions evaluations: 73\n"
     ]
    },
    {
     "name": "stderr",
     "output_type": "stream",
     "text": [
      "INFO:tensorflow:Optimization terminated with:\n",
      "  Message: b'CONVERGENCE: REL_REDUCTION_OF_F_<=_FACTR*EPSMCH'\n",
      "  Objective function value: 3314.993826\n",
      "  Number of iterations: 50\n",
      "  Number of functions evaluations: 73\n",
      "WARNING:gpflow.logdensities:Shape of x must be 2D at computation.\n"
     ]
    },
    {
     "name": "stdout",
     "output_type": "stream",
     "text": [
      "INFO:tensorflow:Optimization terminated with:\n",
      "  Message: b'CONVERGENCE: REL_REDUCTION_OF_F_<=_FACTR*EPSMCH'\n",
      "  Objective function value: 4540.918794\n",
      "  Number of iterations: 61\n",
      "  Number of functions evaluations: 92\n"
     ]
    },
    {
     "name": "stderr",
     "output_type": "stream",
     "text": [
      "INFO:tensorflow:Optimization terminated with:\n",
      "  Message: b'CONVERGENCE: REL_REDUCTION_OF_F_<=_FACTR*EPSMCH'\n",
      "  Objective function value: 4540.918794\n",
      "  Number of iterations: 61\n",
      "  Number of functions evaluations: 92\n"
     ]
    },
    {
     "name": "stdout",
     "output_type": "stream",
     "text": [
      "GE summary done!\n",
      "Done!\n"
     ]
    },
    {
     "data": {
      "text/plain": [
       "<Figure size 864x432 with 0 Axes>"
      ]
     },
     "metadata": {},
     "output_type": "display_data"
    },
    {
     "data": {
      "text/plain": [
       "<Figure size 864x432 with 0 Axes>"
      ]
     },
     "metadata": {},
     "output_type": "display_data"
    },
    {
     "data": {
      "text/plain": [
       "<Figure size 864x432 with 0 Axes>"
      ]
     },
     "metadata": {},
     "output_type": "display_data"
    },
    {
     "data": {
      "text/plain": [
       "<Figure size 864x432 with 0 Axes>"
      ]
     },
     "metadata": {},
     "output_type": "display_data"
    },
    {
     "data": {
      "text/plain": [
       "<Figure size 864x432 with 0 Axes>"
      ]
     },
     "metadata": {},
     "output_type": "display_data"
    },
    {
     "data": {
      "text/plain": [
       "<Figure size 864x432 with 0 Axes>"
      ]
     },
     "metadata": {},
     "output_type": "display_data"
    },
    {
     "data": {
      "text/plain": [
       "<Figure size 864x432 with 0 Axes>"
      ]
     },
     "metadata": {},
     "output_type": "display_data"
    },
    {
     "data": {
      "text/plain": [
       "<Figure size 864x432 with 0 Axes>"
      ]
     },
     "metadata": {},
     "output_type": "display_data"
    },
    {
     "data": {
      "text/plain": [
       "<Figure size 864x432 with 0 Axes>"
      ]
     },
     "metadata": {},
     "output_type": "display_data"
    }
   ],
   "source": [
    "import os\n",
    "\n",
    "\n",
    "start_year = 2008\n",
    "\n",
    "def main():\n",
    "    company_list = []\n",
    "    plot_objects = {}\n",
    "    for company_file in os.listdir('datasetslib/Data'):\n",
    "        if company_file == '.DS_Store':\n",
    "            continue\n",
    "        company = company_file.split('.')[0]\n",
    "        company_list.append(company)\n",
    "        plot_objects[company] = PlotData(company=company)\n",
    "\n",
    "    for company in company_list:\n",
    "        print (\"Company Name \", company)\n",
    "        do_work(company,plot_objects[company])\n",
    "    print(\"Done!\")\n",
    "\n",
    "\n",
    "def do_work(company,plot_data):\n",
    "    plot_data.plot_complete_history()\n",
    "    plot_data.plot_prices_data(start_year=start_year, end_year=2016)\n",
    "    plot_data.plot_normalized_prices(first_year=start_year, last_year=2016)\n",
    "    plot_data.plot_gp_predictions(train_start=start_year, train_end=2016, pred_year=2017)\n",
    "    plot_data.plot_prices_data(start_year=start_year, end_year=2018)\n",
    "    plot_data.plot_gp_predictions(train_start=start_year, train_end=2018, pred_year=2018, pred_quarters=[4])\n",
    "    print(company + ' summary done!')\n",
    "\n",
    "if __name__ == \"__main__\":\n",
    "    main()\n"
   ]
  },
  {
   "cell_type": "code",
   "execution_count": null,
   "metadata": {},
   "outputs": [],
   "source": []
  }
 ],
 "metadata": {
  "kernelspec": {
   "display_name": "Python 3",
   "language": "python",
   "name": "python3"
  },
  "language_info": {
   "codemirror_mode": {
    "name": "ipython",
    "version": 3
   },
   "file_extension": ".py",
   "mimetype": "text/x-python",
   "name": "python",
   "nbconvert_exporter": "python",
   "pygments_lexer": "ipython3",
   "version": "3.7.3"
  }
 },
 "nbformat": 4,
 "nbformat_minor": 2
}
